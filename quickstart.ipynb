{
 "cells": [
  {
   "cell_type": "code",
   "execution_count": null,
   "metadata": {},
   "outputs": [],
   "source": [
    "# Copyright (c) Facebook, Inc. and its affiliates. All rights reserved.\n",
    "\n",
    "# This source code is licensed under the license found in the LICENSE file in the root directory of this source tree."
   ]
  },
  {
   "cell_type": "markdown",
   "metadata": {},
   "source": [
    "## Optimizing a high-dimensional function with ALEBO\n",
    "This notebook provides a simple example of how to optimize a high-dimensional function with ALEBO.\n",
    "\n",
    "ALEBO is described in:\n",
    "\n",
    "B Letham, R Calandra, A Rai, E Bakshy (2020) Re-examining linear embeddings for high-dimensional Bayesian optimization. _Submitted_.\n",
    "\n",
    "See the github repository for the full code used for the benchmark experiments in the paper.\n",
    "\n",
    "We use Ax to manage the optimization loop; see https://ax.dev/tutorials/gpei_hartmann_loop.html for more documentation on the API used here."
   ]
  },
  {
   "cell_type": "code",
   "execution_count": 1,
   "metadata": {},
   "outputs": [],
   "source": [
    "# Define a function to be optimized.\n",
    "# Here we use a simple synthetic function with a d=2 true linear embedding, in\n",
    "# a D=100 ambient space.\n",
    "\n",
    "import numpy as np\n",
    "from ax.utils.measurement.synthetic_functions import branin\n",
    "\n",
    "\n",
    "def branin_evaluation_function(parameterization):\n",
    "    # Evaluates Branin on the first two parameters of the parameterization.\n",
    "    # Other parameters are unused.\n",
    "    x = np.array([parameterization[\"x0\"], parameterization[\"x1\"]])\n",
    "    return {\"objective\": (branin(x), 0.0)}"
   ]
  },
  {
   "cell_type": "code",
   "execution_count": 2,
   "metadata": {},
   "outputs": [],
   "source": [
    "# Define the parameters in the format expected by Ax.\n",
    "# Here we define a D=100 search space by augmenting the real Branin parameters\n",
    "# with 98 unused parameters.\n",
    "\n",
    "parameters = [\n",
    "    {\"name\": \"x0\", \"type\": \"range\", \"bounds\": [-5.0, 10.0], \"value_type\": \"float\"},\n",
    "    {\"name\": \"x1\", \"type\": \"range\", \"bounds\": [0.0, 15.0], \"value_type\": \"float\"},\n",
    "]\n",
    "parameters.extend([\n",
    "    {\"name\": f\"x{i}\", \"type\": \"range\", \"bounds\": [-5.0, 10.0], \"value_type\": \"float\"}\n",
    "    for i in range(2, 100)\n",
    "])"
   ]
  },
  {
   "cell_type": "code",
   "execution_count": 3,
   "metadata": {},
   "outputs": [
    {
     "name": "stderr",
     "output_type": "stream",
     "text": [
      "[INFO 01-09 12:20:47] ax.modelbridge.generation_strategy: Using model via callable function, so optimization is not resumable if interrupted.\n"
     ]
    }
   ],
   "source": [
    "# Setup the ALEBO optimization strategy\n",
    "# We must specify the ambient dimensionality (determined by the problem - here 100),\n",
    "# the embedding dimensionality, and the number of initial random points. As\n",
    "# discussed in the paper, the embedding dimensionality should be larger than the\n",
    "# true subspace dimensionality. Here we use 4, since the true dimensionality is 2;\n",
    "# see the paper for more discussion on this point.\n",
    "\n",
    "from ax.modelbridge.strategies.alebo import ALEBOStrategy\n",
    "\n",
    "alebo_strategy = ALEBOStrategy(D=100, d=4, init_size=5)"
   ]
  },
  {
   "cell_type": "code",
   "execution_count": 4,
   "metadata": {},
   "outputs": [
    {
     "name": "stderr",
     "output_type": "stream",
     "text": [
      "[INFO 01-09 12:20:50] ax.service.managed_loop: Started full optimization with 30 steps.\n",
      "[INFO 01-09 12:20:50] ax.service.managed_loop: Running optimization trial 1...\n",
      "[INFO 01-09 12:20:52] ax.service.managed_loop: Running optimization trial 2...\n",
      "[INFO 01-09 12:20:54] ax.service.managed_loop: Running optimization trial 3...\n",
      "[INFO 01-09 12:20:55] ax.service.managed_loop: Running optimization trial 4...\n",
      "[INFO 01-09 12:20:57] ax.service.managed_loop: Running optimization trial 5...\n",
      "[INFO 01-09 12:20:59] ax.service.managed_loop: Running optimization trial 6...\n",
      "[INFO 01-09 12:22:43] ax.service.managed_loop: Running optimization trial 7...\n",
      "[INFO 01-09 12:24:06] ax.service.managed_loop: Running optimization trial 8...\n",
      "[INFO 01-09 12:25:29] ax.service.managed_loop: Running optimization trial 9...\n",
      "[INFO 01-09 12:26:49] ax.service.managed_loop: Running optimization trial 10...\n",
      "[INFO 01-09 12:28:26] ax.service.managed_loop: Running optimization trial 11...\n",
      "[INFO 01-09 12:29:41] ax.service.managed_loop: Running optimization trial 12...\n",
      "[INFO 01-09 12:31:11] ax.service.managed_loop: Running optimization trial 13...\n",
      "[INFO 01-09 12:32:35] ax.service.managed_loop: Running optimization trial 14...\n",
      "[INFO 01-09 12:34:21] ax.service.managed_loop: Running optimization trial 15...\n",
      "[INFO 01-09 12:36:08] ax.service.managed_loop: Running optimization trial 16...\n",
      "[INFO 01-09 12:37:29] ax.service.managed_loop: Running optimization trial 17...\n",
      "[INFO 01-09 12:38:24] ax.service.managed_loop: Running optimization trial 18...\n",
      "[INFO 01-09 12:39:20] ax.service.managed_loop: Running optimization trial 19...\n",
      "[INFO 01-09 12:40:40] ax.service.managed_loop: Running optimization trial 20...\n",
      "[INFO 01-09 12:43:05] ax.service.managed_loop: Running optimization trial 21...\n",
      "[INFO 01-09 12:44:46] ax.service.managed_loop: Running optimization trial 22...\n",
      "[INFO 01-09 12:46:20] ax.service.managed_loop: Running optimization trial 23...\n",
      "[INFO 01-09 12:47:36] ax.service.managed_loop: Running optimization trial 24...\n",
      "/usr/local/lib/python3.7/site-packages/ax_platform-0.1.8-py3.7.egg/ax/models/torch/alebo.py:325: RuntimeWarning:\n",
      "\n",
      "covariance is not symmetric positive-semidefinite.\n",
      "\n",
      "[INFO 01-09 12:49:24] ax.service.managed_loop: Running optimization trial 25...\n",
      "[INFO 01-09 12:50:48] ax.service.managed_loop: Running optimization trial 26...\n",
      "[INFO 01-09 12:52:34] ax.service.managed_loop: Running optimization trial 27...\n",
      "[INFO 01-09 12:54:13] ax.service.managed_loop: Running optimization trial 28...\n",
      "[INFO 01-09 12:55:50] ax.service.managed_loop: Running optimization trial 29...\n",
      "[INFO 01-09 12:57:11] ax.service.managed_loop: Running optimization trial 30...\n"
     ]
    }
   ],
   "source": [
    "# Run the optimization loop with that strategy\n",
    "# This will take about 30 mins to run\n",
    "\n",
    "from ax.service.managed_loop import optimize\n",
    "\n",
    "best_parameters, values, experiment, model = optimize(\n",
    "    parameters=parameters,\n",
    "    experiment_name=\"branin_100\",\n",
    "    objective_name=\"objective\",\n",
    "    evaluation_function=branin_evaluation_function,\n",
    "    minimize=True,\n",
    "    total_trials=30,\n",
    "    generation_strategy=alebo_strategy,\n",
    ")"
   ]
  },
  {
   "cell_type": "code",
   "execution_count": 20,
   "metadata": {},
   "outputs": [
    {
     "data": {
      "image/png": "[encoded data removed]",
      "text/plain": [
       "<Figure size 864x432 with 1 Axes>"
      ]
     },
     "metadata": {
      "needs_background": "light"
     },
     "output_type": "display_data"
    }
   ],
   "source": [
    "# Extract out the objective values at each iteration and make a plot\n",
    "\n",
    "from matplotlib import pyplot as plt\n",
    "\n",
    "objectives = np.array([trial.objective_mean for trial in experiment.trials.values()])\n",
    "\n",
    "fig = plt.figure(figsize=(12, 6))\n",
    "ax = fig.add_subplot(111)\n",
    "ax.grid(alpha=0.2)\n",
    "ax.plot(range(1, 31), np.minimum.accumulate(objectives))\n",
    "ax.axhline(y=branin.fmin, ls='--', c='k')\n",
    "ax.set_xlabel('Iteration')\n",
    "ax.set_ylabel('Best objective found');"
   ]
  }
 ],
 "metadata": {
  "kernelspec": {
   "display_name": "Python 3",
   "language": "python",
   "name": "python3"
  },
  "language_info": {
   "codemirror_mode": {
    "name": "ipython",
    "version": 3
   },
   "file_extension": ".py",
   "mimetype": "text/x-python",
   "name": "python",
   "nbconvert_exporter": "python",
   "pygments_lexer": "ipython3",
   "version": "3.7.5"
  }
 },
 "nbformat": 4,
 "nbformat_minor": 2
}
